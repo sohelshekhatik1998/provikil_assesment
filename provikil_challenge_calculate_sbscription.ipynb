{
  "nbformat": 4,
  "nbformat_minor": 0,
  "metadata": {
    "colab": {
      "provenance": [],
      "authorship_tag": "ABX9TyPD/i4pbduGuxa3TU5m6d9j",
      "include_colab_link": true
    },
    "kernelspec": {
      "name": "python3",
      "display_name": "Python 3"
    },
    "language_info": {
      "name": "python"
    }
  },
  "cells": [
    {
      "cell_type": "markdown",
      "metadata": {
        "id": "view-in-github",
        "colab_type": "text"
      },
      "source": [
        "<a href=\"https://colab.research.google.com/github/sohelshekhatik1998/provikil_assesment/blob/main/provikil_challenge_calculate_sbscription.ipynb\" target=\"_parent\"><img src=\"https://colab.research.google.com/assets/colab-badge.svg\" alt=\"Open In Colab\"/></a>"
      ]
    },
    {
      "cell_type": "markdown",
      "source": [
        "CALCULATE_SUBSCRIPTION_CHALLENGE_PROGRAM\n"
      ],
      "metadata": {
        "id": "FhythtdKJOK1"
      }
    },
    {
      "cell_type": "code",
      "execution_count": 5,
      "metadata": {
        "colab": {
          "base_uri": "https://localhost:8080/"
        },
        "id": "U9107eRPEn1w",
        "outputId": "679a34a0-e818-47db-8514-76ed4d414290"
      },
      "outputs": [
        {
          "output_type": "stream",
          "name": "stdout",
          "text": [
            "Enter a Date formatted as DD/MM/YYYY : 3/06/2022\n",
            "3\n",
            "400\n",
            "01/09/2022 1186.67\n"
          ]
        }
      ],
      "source": [
        "from datetime import date\n",
        "from dateutil.relativedelta import relativedelta\n",
        "def calculate_subs(d,months_subs,cost_subs_per_month):\n",
        "    if months_subs==1:\n",
        "        cost_per_day=1000/30\n",
        "        days=26\n",
        "        cost_subs_per_month=round(days*cost_per_day,2)\n",
        "        updated_date=d+relativedelta(days=26)\n",
        "        print(updated_date.strftime('%d/%m/%y'),cost_subs_per_month)\n",
        "    if months_subs==3:\n",
        "        cost_per_day=400/30\n",
        "        days=89\n",
        "        cost_subs_per_month=round(days*cost_per_day,2)\n",
        "        updated_date=d+relativedelta(days=90)\n",
        "        print(updated_date.strftime('%d/%m/%Y'),cost_subs_per_month)\n",
        "\n",
        "date_components=input('Enter a Date formatted as DD/MM/YYYY : ').split('/')\n",
        "year,month,day=[int(item) for item in date_components]\n",
        "d=date(day,month,year)\n",
        "\n",
        "months_subs=int(input())\n",
        "cost_subs_per_month=int(input())\n",
        "\n",
        "\n",
        "calculate_subs(d,months_subs,cost_subs_per_month)"
      ]
    }
  ]
}